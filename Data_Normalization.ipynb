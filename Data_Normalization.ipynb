{
 "cells": [
  {
   "cell_type": "code",
   "execution_count": 1,
   "metadata": {
    "collapsed": true
   },
   "outputs": [],
   "source": [
    "import pandas as pd\n",
    "import numpy as np\n",
    "import ast\n",
    "from sklearn import svm\n",
    "from sklearn.metrics import accuracy_score\n",
    "from sklearn import cluster"
   ]
  },
  {
   "cell_type": "code",
   "execution_count": 2,
   "metadata": {
    "collapsed": true
   },
   "outputs": [],
   "source": [
    "landmarks = pd.read_csv('~/Notebooks/TestProject/sky_fa_final.csv', index_col = 'image_name')"
   ]
  },
  {
   "cell_type": "code",
   "execution_count": 3,
   "metadata": {
    "collapsed": true
   },
   "outputs": [],
   "source": [
    "x_coordinates = ['point1_x', 'point2_x', 'point3_x', 'point4_x', 'point5_x', 'point6_x', 'point7_x', 'point8_x', 'point9_x', 'point10_x', 'point11_x', 'point12_x', 'point13_x', 'point14_x', 'point15_x', 'point16_x', 'point17_x', 'point18_x', 'point19_x', 'point20_x', 'point21_x', 'point22_x', 'point23_x', 'point24_x', 'point25_x', 'point26_x', 'point27_x', 'point28_x', 'point29_x', 'point30_x', 'point31_x', 'point32_x', 'point33_x', 'point34_x', 'point35_x', 'point36_x', 'point37_x', 'point38_x', 'point39_x', 'point40_x', 'point41_x', 'point42_x', 'point43_x', 'point44_x', 'point45_x', 'point46_x', 'point47_x', 'point48_x', 'point49_x', 'point50_x', 'point51_x', 'point52_x', 'point53_x', 'point54_x', 'point55_x', 'point56_x', 'point57_x', 'point58_x', 'point59_x', 'point60_x', 'point61_x', 'point62_x', 'point63_x', 'point64_x', 'point65_x', 'point66_x', 'point67_x', 'point68_x']"
   ]
  },
  {
   "cell_type": "code",
   "execution_count": 4,
   "metadata": {
    "collapsed": true
   },
   "outputs": [],
   "source": [
    "y_coordinates = ['point1_y', 'point2_y', 'point3_y', 'point4_y', 'point5_y', 'point6_y', 'point7_y', 'point8_y', 'point9_y', 'point10_y', 'point11_y', 'point12_y', 'point13_y', 'point14_y', 'point15_y', 'point16_y', 'point17_y', 'point18_y', 'point19_y', 'point20_y', 'point21_y', 'point22_y', 'point23_y', 'point24_y', 'point25_y', 'point26_y', 'point27_y', 'point28_y', 'point29_y', 'point30_y', 'point31_y', 'point32_y', 'point33_y', 'point34_y', 'point35_y', 'point36_y', 'point37_y', 'point38_x', 'point39_y', 'point40_y', 'point41_y', 'point42_y', 'point43_y', 'point44_y', 'point45_y', 'point46_y', 'point47_y', 'point48_y', 'point49_y', 'point50_y', 'point51_y', 'point52_y', 'point53_y', 'point54_y', 'point55_y', 'point56_y', 'point57_y', 'point58_y', 'point59_y', 'point60_y', 'point61_y', 'point62_y', 'point63_y', 'point64_y', 'point65_y', 'point66_y', 'point67_y', 'point68_y']"
   ]
  },
  {
   "cell_type": "code",
   "execution_count": 5,
   "metadata": {
    "collapsed": false
   },
   "outputs": [
    {
     "name": "stderr",
     "output_type": "stream",
     "text": [
      "/usr/local/lib/python2.7/dist-packages/ipykernel/__main__.py:2: SettingWithCopyWarning: \n",
      "A value is trying to be set on a copy of a slice from a DataFrame.\n",
      "Try using .loc[row_indexer,col_indexer] = value instead\n",
      "\n",
      "See the caveats in the documentation: http://pandas.pydata.org/pandas-docs/stable/indexing.html#indexing-view-versus-copy\n",
      "  from ipykernel import kernelapp as app\n",
      "/usr/local/lib/python2.7/dist-packages/ipykernel/__main__.py:4: SettingWithCopyWarning: \n",
      "A value is trying to be set on a copy of a slice from a DataFrame.\n",
      "Try using .loc[row_indexer,col_indexer] = value instead\n",
      "\n",
      "See the caveats in the documentation: http://pandas.pydata.org/pandas-docs/stable/indexing.html#indexing-view-versus-copy\n"
     ]
    }
   ],
   "source": [
    "new_df_x = landmarks[x_coordinates]\n",
    "new_df_x['x_mean'] = new_df_x.mean(numeric_only=True, axis=1)\n",
    "new_df_y = landmarks[y_coordinates]\n",
    "new_df_y['y_mean'] = new_df_y.mean(numeric_only=True, axis=1)"
   ]
  },
  {
   "cell_type": "code",
   "execution_count": 6,
   "metadata": {
    "collapsed": false
   },
   "outputs": [
    {
     "name": "stderr",
     "output_type": "stream",
     "text": [
      "/usr/local/lib/python2.7/dist-packages/ipykernel/__main__.py:2: SettingWithCopyWarning: \n",
      "A value is trying to be set on a copy of a slice from a DataFrame.\n",
      "Try using .loc[row_indexer,col_indexer] = value instead\n",
      "\n",
      "See the caveats in the documentation: http://pandas.pydata.org/pandas-docs/stable/indexing.html#indexing-view-versus-copy\n",
      "  from ipykernel import kernelapp as app\n",
      "/usr/local/lib/python2.7/dist-packages/ipykernel/__main__.py:4: SettingWithCopyWarning: \n",
      "A value is trying to be set on a copy of a slice from a DataFrame.\n",
      "Try using .loc[row_indexer,col_indexer] = value instead\n",
      "\n",
      "See the caveats in the documentation: http://pandas.pydata.org/pandas-docs/stable/indexing.html#indexing-view-versus-copy\n"
     ]
    }
   ],
   "source": [
    "for cols in x_coordinates:\n",
    "    new_df_x[cols] = new_df_x[cols] - new_df_x['x_mean']\n",
    "for cols in y_coordinates:\n",
    "    new_df_y[cols] = new_df_y[cols] - new_df_y['y_mean']"
   ]
  },
  {
   "cell_type": "code",
   "execution_count": 7,
   "metadata": {
    "collapsed": false
   },
   "outputs": [],
   "source": [
    "new_df = pd.concat([new_df_x, new_df_y], axis = 1)"
   ]
  },
  {
   "cell_type": "code",
   "execution_count": 8,
   "metadata": {
    "collapsed": false
   },
   "outputs": [],
   "source": [
    "new_df = new_df.drop(['x_mean', 'y_mean'], axis= 1)"
   ]
  },
  {
   "cell_type": "code",
   "execution_count": 9,
   "metadata": {
    "collapsed": false
   },
   "outputs": [],
   "source": [
    "new_df = new_df.div(np.sqrt(np.square(new_df).sum(axis=1)), axis=0)"
   ]
  },
  {
   "cell_type": "code",
   "execution_count": null,
   "metadata": {
    "collapsed": true
   },
   "outputs": [],
   "source": []
  }
 ],
 "metadata": {
  "kernelspec": {
   "display_name": "Python 2",
   "language": "python",
   "name": "python2"
  },
  "language_info": {
   "codemirror_mode": {
    "name": "ipython",
    "version": 2
   },
   "file_extension": ".py",
   "mimetype": "text/x-python",
   "name": "python",
   "nbconvert_exporter": "python",
   "pygments_lexer": "ipython2",
   "version": "2.7.6"
  }
 },
 "nbformat": 4,
 "nbformat_minor": 2
}
