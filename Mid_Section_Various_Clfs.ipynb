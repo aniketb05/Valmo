{
 "cells": [
  {
   "cell_type": "code",
   "execution_count": 1,
   "metadata": {
    "collapsed": true
   },
   "outputs": [],
   "source": [
    "import pandas as pd\n",
    "from sklearn.svm import SVC\n",
    "from time import time\n",
    "from sklearn.metrics import accuracy_score\n",
    "from sklearn.naive_bayes import GaussianNB\n",
    "from sklearn.tree import DecisionTreeClassifier\n",
    "from sklearn.ensemble import RandomForestClassifier\n",
    "from sklearn.ensemble import AdaBoostClassifier\n",
    "from sklearn.neighbors import KNeighborsClassifier\n",
    "split = 90"
   ]
  },
  {
   "cell_type": "code",
   "execution_count": 2,
   "metadata": {
    "collapsed": false
   },
   "outputs": [],
   "source": [
    "fdf = pd.read_csv('~/Notebooks/TestProject/mid_section_labelled_144.csv')"
   ]
  },
  {
   "cell_type": "code",
   "execution_count": 3,
   "metadata": {
    "collapsed": true
   },
   "outputs": [],
   "source": [
    "features = ['mid_v_angle', 'chin_ratio', 'jaw_ratio', 'ratio_1', 'ratio_2', 'ratio_3','avg_mid_height']"
   ]
  },
  {
   "cell_type": "code",
   "execution_count": 4,
   "metadata": {
    "collapsed": true
   },
   "outputs": [],
   "source": [
    "fdf_train = fdf[:split]\n",
    "fdf_test = fdf[split:]"
   ]
  },
  {
   "cell_type": "code",
   "execution_count": 5,
   "metadata": {
    "collapsed": false
   },
   "outputs": [
    {
     "name": "stdout",
     "output_type": "stream",
     "text": [
      "training time: 0.006 s\n",
      "testing time: 0.001 s\n",
      "0.240740740741\n"
     ]
    }
   ],
   "source": [
    "#SVM linear\n",
    "clf = SVC(kernel = 'linear', C = 10.0)\n",
    "\n",
    "t0 = time()\n",
    "clf = clf.fit(fdf_train[features], fdf_train['M-S'])\n",
    "print \"training time:\", round(time()-t0, 3), \"s\"\n",
    "\n",
    "t1 = time()\n",
    "labels_pred = clf.predict(fdf_test[features])\n",
    "print \"testing time:\", round(time()-t1, 3), \"s\"\n",
    "\n",
    "accuracy = accuracy_score(fdf_test['M-S'], labels_pred)\n",
    "print accuracy"
   ]
  },
  {
   "cell_type": "code",
   "execution_count": 6,
   "metadata": {
    "collapsed": false
   },
   "outputs": [
    {
     "name": "stdout",
     "output_type": "stream",
     "text": [
      "training time: 0.002 s\n",
      "testing time: 0.001 s\n",
      "0.240740740741\n"
     ]
    }
   ],
   "source": [
    "#SVM rbf\n",
    "clf = SVC(kernel = 'rbf', C = 10.0)\n",
    "\n",
    "t0 = time()\n",
    "clf = clf.fit(fdf_train[features], fdf_train['M-S'])\n",
    "print \"training time:\", round(time()-t0, 3), \"s\"\n",
    "\n",
    "t1 = time()\n",
    "labels_pred = clf.predict(fdf_test[features])\n",
    "print \"testing time:\", round(time()-t1, 3), \"s\"\n",
    "\n",
    "accuracy = accuracy_score(fdf_test['M-S'], labels_pred)\n",
    "print accuracy"
   ]
  },
  {
   "cell_type": "code",
   "execution_count": 7,
   "metadata": {
    "collapsed": false
   },
   "outputs": [
    {
     "name": "stdout",
     "output_type": "stream",
     "text": [
      "training time: 0.002 s\n",
      "testing time: 0.001 s\n",
      "0.277777777778\n"
     ]
    }
   ],
   "source": [
    "#Naive Bayes\n",
    "clf = GaussianNB()\n",
    "\n",
    "t0 = time()\n",
    "clf = clf.fit(fdf_train[features], fdf_train['M-S'])\n",
    "print \"training time:\", round(time()-t0, 3), \"s\"\n",
    "\n",
    "t1 = time()\n",
    "labels_pred = clf.predict(fdf_test[features])\n",
    "print \"testing time:\", round(time()-t1, 3), \"s\"\n",
    "\n",
    "accuracy = accuracy_score(fdf_test['M-S'], labels_pred)\n",
    "print accuracy"
   ]
  },
  {
   "cell_type": "code",
   "execution_count": 8,
   "metadata": {
    "collapsed": false
   },
   "outputs": [
    {
     "name": "stdout",
     "output_type": "stream",
     "text": [
      "training time: 0.002 s\n",
      "testing time: 0.001 s\n",
      "0.296296296296\n"
     ]
    }
   ],
   "source": [
    "#Decision Tree\n",
    "clf = DecisionTreeClassifier(min_samples_split = 2)\n",
    "\n",
    "t0 = time()\n",
    "clf = clf.fit(fdf_train[features], fdf_train['M-S'])\n",
    "print \"training time:\", round(time()-t0, 3), \"s\"\n",
    "\n",
    "t1 = time()\n",
    "labels_pred = clf.predict(fdf_test[features])\n",
    "print \"testing time:\", round(time()-t1, 3), \"s\"\n",
    "\n",
    "accuracy = accuracy_score(fdf_test['M-S'], labels_pred)\n",
    "print accuracy"
   ]
  },
  {
   "cell_type": "code",
   "execution_count": 9,
   "metadata": {
    "collapsed": false
   },
   "outputs": [
    {
     "name": "stdout",
     "output_type": "stream",
     "text": [
      "training time: 0.039 s\n",
      "testing time: 0.003 s\n",
      "0.37037037037\n",
      "[(0.1704, 'avg_mid_height'), (0.1641, 'ratio_2'), (0.1443, 'jaw_ratio'), (0.1408, 'chin_ratio'), (0.1376, 'ratio_3'), (0.1289, 'ratio_1'), (0.114, 'mid_v_angle')]\n"
     ]
    }
   ],
   "source": [
    "#Random Forest\n",
    "clf = RandomForestClassifier(n_estimators=20, min_samples_split=2)\n",
    "\n",
    "t0 = time()\n",
    "clf = clf.fit(fdf_train[features], fdf_train['M-S'])\n",
    "print \"training time:\", round(time()-t0, 3), \"s\"\n",
    "\n",
    "t1 = time()\n",
    "labels_pred = clf.predict(fdf_test[features])\n",
    "print \"testing time:\", round(time()-t1, 3), \"s\"\n",
    "\n",
    "accuracy = accuracy_score(fdf_test['M-S'], labels_pred)\n",
    "print accuracy\n",
    "\n",
    "print sorted(zip(map(lambda x: round(x, 4), clf.feature_importances_), features), reverse=True)"
   ]
  },
  {
   "cell_type": "code",
   "execution_count": 10,
   "metadata": {
    "collapsed": false
   },
   "outputs": [
    {
     "name": "stdout",
     "output_type": "stream",
     "text": [
      "training time: 0.004 s\n",
      "testing time: 0.001 s\n",
      "0.222222222222\n"
     ]
    }
   ],
   "source": [
    "#Adaboost with decision tree as weak learner\n",
    "dt = DecisionTreeClassifier(min_samples_split = 2)\n",
    "\n",
    "clf = AdaBoostClassifier(n_estimators=10, base_estimator=dt,learning_rate=1)\n",
    "\n",
    "t0 = time()\n",
    "clf = clf.fit(fdf_train[features], fdf_train['M-S'])\n",
    "print \"training time:\", round(time()-t0, 3), \"s\"\n",
    "\n",
    "t1 = time()\n",
    "labels_pred = clf.predict(fdf_test[features])\n",
    "print \"testing time:\", round(time()-t1, 3), \"s\"\n",
    "\n",
    "accuracy = accuracy_score(fdf_test['M-S'], labels_pred)\n",
    "print accuracy"
   ]
  },
  {
   "cell_type": "code",
   "execution_count": 11,
   "metadata": {
    "collapsed": false
   },
   "outputs": [
    {
     "name": "stdout",
     "output_type": "stream",
     "text": [
      "training time: 0.006 s\n",
      "testing time: 0.002 s\n",
      "0.240740740741\n"
     ]
    }
   ],
   "source": [
    "#K Nearest neighbour Classifier Forest\n",
    "clf = KNeighborsClassifier(n_neighbors=10)\n",
    "\n",
    "t0 = time()\n",
    "clf = clf.fit(fdf_train[features], fdf_train['M-S'])\n",
    "print \"training time:\", round(time()-t0, 3), \"s\"\n",
    "\n",
    "t1 = time()\n",
    "labels_pred = clf.predict(fdf_test[features])\n",
    "print \"testing time:\", round(time()-t1, 3), \"s\"\n",
    "\n",
    "accuracy = accuracy_score(fdf_test['M-S'], labels_pred)\n",
    "print accuracy"
   ]
  },
  {
   "cell_type": "code",
   "execution_count": null,
   "metadata": {
    "collapsed": true
   },
   "outputs": [],
   "source": []
  }
 ],
 "metadata": {
  "anaconda-cloud": {},
  "kernelspec": {
   "display_name": "Python [conda root]",
   "language": "python",
   "name": "conda-root-py"
  },
  "language_info": {
   "codemirror_mode": {
    "name": "ipython",
    "version": 2
   },
   "file_extension": ".py",
   "mimetype": "text/x-python",
   "name": "python",
   "nbconvert_exporter": "python",
   "pygments_lexer": "ipython2",
   "version": "2.7.12"
  }
 },
 "nbformat": 4,
 "nbformat_minor": 1
}
